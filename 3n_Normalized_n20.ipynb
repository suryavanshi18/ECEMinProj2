{
  "nbformat": 4,
  "nbformat_minor": 0,
  "metadata": {
    "colab": {
      "provenance": []
    },
    "kernelspec": {
      "name": "python3",
      "display_name": "Python 3"
    },
    "language_info": {
      "name": "python"
    }
  },
  "cells": [
    {
      "cell_type": "code",
      "execution_count": 2,
      "metadata": {
        "id": "FexCrNtcpoeE"
      },
      "outputs": [],
      "source": [
        "import numpy as np\n",
        "import matplotlib.pyplot as plt\n",
        "def omp(A, y, s):\n",
        "    \"\"\"\n",
        "    Implementation of OMP algorithm.\n",
        "    \"\"\"\n",
        "    residual = y\n",
        "    support = []\n",
        "    for i in range(s):\n",
        "        scores = np.abs(A.T @ residual)\n",
        "        index = np.argmax(scores)\n",
        "        support.append(index)\n",
        "        x = np.zeros(A.shape[1])\n",
        "        x[support] = np.linalg.pinv(A[:, support]) @ y\n",
        "        residual = y - A @ x\n",
        "        if np.linalg.norm(residual) < 1e-6:\n",
        "            break\n",
        "    x_omp = np.zeros(A.shape[1])\n",
        "    for sp in support:\n",
        "        x_omp[support]=x[support]\n",
        "    return x_omp, support\n",
        "\n",
        "def noiseless_phase_transition_omp(N, M_values, s_max):\n",
        "    \"\"\"\n",
        "    Generate noiseless phase transition plot for OMP algorithm.\n",
        "    \"\"\"\n",
        "    avg_norm_err = np.zeros((len(M_values), s_max+1))\n",
        "    # for n in range(len(N_values)):\n",
        "    #     N = N_values[n]\n",
        "    for m in range(len(M_values)):\n",
        "        M = M_values[m]\n",
        "        ##### Generating A #########\n",
        "        A = np.random.normal(size=(M, N))\n",
        "        A /= np.linalg.norm(A, axis=0)\n",
        "        ############################\n",
        "        for s in range(1, s_max+1):\n",
        "            norm_err_arr = np.zeros(2000)\n",
        "            for i in range(2000):\n",
        "                #x = generate_sparse_vector(N, s)\n",
        "                ########### Generating x  ###############\n",
        "                index=0\n",
        "                support=np.zeros(s,dtype=int)\n",
        "                while(index!=s):\n",
        "                    gen=np.random.uniform(1,N)\n",
        "                    if(int(gen) not in support):\n",
        "                        support[index]=int(gen)\n",
        "                        index+=1\n",
        "                x=np.zeros(N)\n",
        "                for j in support:\n",
        "                    k=np.random.uniform(-10,11)\n",
        "                    while(int(k)==0):\n",
        "                        k=np.random.uniform(-10,11)\n",
        "                    x[j]=k\n",
        "                ####################################\n",
        "                y = A @ x\n",
        "                x_omp, support = omp(A, y, s)\n",
        "                # Calculate the Normalized Error\n",
        "                norm_err = np.linalg.norm(x - x_omp) / np.linalg.norm(x)\n",
        "                norm_err_arr[i] = norm_err\n",
        "            avg_norm_err[m, s] = np.mean(norm_err_arr)\n",
        "    return avg_norm_err\n",
        "\n",
        "# Define parameters\n",
        "def solve_problem_normalized(n):\n",
        "    N_values = n\n",
        "    M_values = np.arange(1, n)\n",
        "    s_max = int(n*7/20)\n",
        "\n",
        "    # Generate noiseless phase transition plot for exact support recovery probability\n",
        "    avg_norm_err = noiseless_phase_transition_omp(N_values, M_values, s_max)\n",
        "\n",
        "    # Plot the results as a 2D image\n",
        "    # for n in range(len(N_values)):\n",
        "      #N = N_values[n]\n",
        "    N = N_values\n",
        "    plt.imshow(avg_norm_err, origin='lower', aspect='auto', cmap='gray_r', extent=[1, M_values[-1], 1, s_max])\n",
        "    plt.colorbar()\n",
        "    plt.xlabel('M')\n",
        "    plt.ylabel('smax')\n",
        "    plt.title('Noiseless Phase Transition Plot (Normalized Error), N=20')\n",
        "    plt.show()"
      ]
    },
    {
      "cell_type": "code",
      "source": [
        "solve_problem_normalized(20)"
      ],
      "metadata": {
        "colab": {
          "base_uri": "https://localhost:8080/",
          "height": 295
        },
        "id": "RoB9sPPKpsuD",
        "outputId": "2e513164-0039-4c38-b5dc-891122b8f6d5"
      },
      "execution_count": 3,
      "outputs": [
        {
          "output_type": "display_data",
          "data": {
            "text/plain": [
              "<Figure size 432x288 with 2 Axes>"
            ],
            "image/png": "[encoded data removed]"
          },
          "metadata": {
            "needs_background": "light"
          }
        }
      ]
    },
    {
      "cell_type": "code",
      "source": [],
      "metadata": {
        "id": "JQXkQJJIp4uC"
      },
      "execution_count": null,
      "outputs": []
    }
  ]
}