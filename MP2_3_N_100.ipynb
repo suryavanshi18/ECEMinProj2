{
 "cells": [
  {
   "cell_type": "code",
   "execution_count": 2,
   "metadata": {},
   "outputs": [],
   "source": [
    "import numpy as np\n",
    "import matplotlib.pyplot as plt\n",
    "def omp(A, y, s):\n",
    "    \"\"\"\n",
    "    Implementation of OMP algorithm.\n",
    "    \"\"\"\n",
    "    residual = y\n",
    "    support = []\n",
    "    for i in range(s):\n",
    "        scores = np.abs(A.T @ residual)\n",
    "        index = np.argmax(scores)\n",
    "        support.append(index)\n",
    "        x = np.zeros(A.shape[1])\n",
    "        x[support] = np.linalg.pinv(A[:, support]) @ y\n",
    "        residual = y - A @ x\n",
    "        if np.linalg.norm(residual) < 1e-6:\n",
    "            break\n",
    "    x_omp = np.zeros(A.shape[1])\n",
    "    for sp in support:\n",
    "      x_omp[support]=x[support]\n",
    "    return x_omp, support\n",
    "\n",
    "def noiseless_phase_transition_omp(N, M_values, s):\n",
    "    \"\"\"\n",
    "    Generate noiseless phase transition plot for OMP algorithm.\n",
    "    \"\"\"\n",
    "    prob_recovery = np.zeros((1, len(M_values), s))\n",
    "    # for n in range(len(N_values)):\n",
    "    #     N = N_values[n]\n",
    "    for m in range(len(M_values)):\n",
    "        M = M_values[m]\n",
    "        ##### Generating A #########\n",
    "        A = np.random.normal(size=(M, N))\n",
    "        A /= np.linalg.norm(A, axis=0)\n",
    "        ############################\n",
    "        for s in range(1, s+1):\n",
    "            num_success = 0\n",
    "            for i in range(2000):\n",
    "                #x = generate_sparse_vector(N, s)\n",
    "                ########### Generating x  ###############\n",
    "                index=0\n",
    "                support=np.zeros(s,dtype=int)\n",
    "                while(index!=s):\n",
    "                    gen=np.random.uniform(1,N)\n",
    "                    if(int(gen) not in support):\n",
    "                      support[index]=int(gen)\n",
    "                      index+=1\n",
    "                x=np.zeros(N)\n",
    "                for j in support:\n",
    "                  k=np.random.uniform(-10,11)\n",
    "                  while(int(k)==0):\n",
    "                    k=np.random.uniform(-10,11)\n",
    "                  x[j]=k\n",
    "                ####################################\n",
    "                y = A @ x\n",
    "                x_omp, support = omp(A, y, s)\n",
    "                if set(support) == set(np.nonzero(x)[0]):\n",
    "                    num_success += 1\n",
    "            prob_recovery[0, m, s-1] = num_success / 2000\n",
    "    return prob_recovery\n",
    "\n",
    "# Define parameters\n",
    "def solve_problem(n):\n",
    "  N_values = n\n",
    "  M_values = np.arange(1, n)\n",
    "  s_max = int(n*7/20)\n",
    "\n",
    "  # Generate noiseless phase transition plot for exact support recovery probability\n",
    "  prob_recovery = noiseless_phase_transition_omp(N_values, M_values, s_max)\n",
    "\n",
    "  # Plot the results as a 2D image\n",
    "  # for n in range(len(N_values)):\n",
    "      #N = N_values[n]\n",
    "  N = N_values\n",
    "  plt.imshow(prob_recovery[0], origin='lower', aspect='auto', cmap='gray_r', extent=[1, M_values[-1], 1, s_max])\n",
    "  plt.colorbar()\n",
    "  plt.title(f\"Noiseless phase transition plot for N = {N}\")\n",
    "  plt.xlabel(\"Number of measurements (M)\")\n",
    "  plt.ylabel(\"Sparsity level (s)\")\n",
    "  plt.show()"
   ]
  },
  {
   "cell_type": "code",
   "execution_count": 3,
   "metadata": {},
   "outputs": [
    {
     "data": {
      "image/png": "[encoded data removed]",
      "text/plain": [
       "<Figure size 432x288 with 2 Axes>"
      ]
     },
     "metadata": {
      "needs_background": "light"
     },
     "output_type": "display_data"
    }
   ],
   "source": []
  },
  {
   "cell_type": "code",
   "execution_count": null,
   "metadata": {},
   "outputs": [],
   "source": []
  }
 ],
 "metadata": {
  "kernelspec": {
   "display_name": "Python 3",
   "language": "python",
   "name": "python3"
  },
  "language_info": {
   "codemirror_mode": {
    "name": "ipython",
    "version": 3
   },
   "file_extension": ".py",
   "mimetype": "text/x-python",
   "name": "python",
   "nbconvert_exporter": "python",
   "pygments_lexer": "ipython3",
   "version": "3.7.6"
  }
 },
 "nbformat": 4,
 "nbformat_minor": 4
}
